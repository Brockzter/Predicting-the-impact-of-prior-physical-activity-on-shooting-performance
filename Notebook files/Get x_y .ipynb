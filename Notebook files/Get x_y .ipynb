{
 "cells": [
  {
   "cell_type": "code",
   "execution_count": 8,
   "metadata": {},
   "outputs": [
    {
     "name": "stdout",
     "output_type": "stream",
     "text": [
      "Length before removing plexi shots: 821\n",
      "Length after removing plexi shots: 401\n"
     ]
    }
   ],
   "source": [
    "import pandas as pd\n",
    "import math\n",
    "\n",
    "hit = pd.read_csv('Hit1.csv') \n",
    "hitX = hit['ImpactPosX'].tolist()\n",
    "hitY = hit['ImpactPosY'].tolist()\n",
    "plexi = hit['ColliderName'].tolist()\n",
    "\n",
    "x = 0\n",
    "plexi_index = []\n",
    "for ix in range(0, len(plexi)):\n",
    "    if plexi[ix] == 'plexi':\n",
    "        plexi_index.append(ix)\n",
    "\n",
    "print(\"Length before removing plexi shots:\", len(hitX))\n",
    "for ix in range(len(plexi_index) - 1, -1, -1):\n",
    "    del hitX[plexi_index[ix]]\n",
    "    del hitY[plexi_index[ix]]\n",
    "\n",
    "print(\"Length after removing plexi shots:\", len(hitX))\n",
    "#Participant #12 shot 10 practise shots, removing 5 of them before looping through all.\n",
    "\n",
    "del hitX[330:334]\n",
    "del hitY[330:334]\n",
    "\n",
    "cnt = 0\n",
    "for ixx in range(0, 14):\n",
    "    del hitX[cnt:cnt+4]\n",
    "    del hitY[cnt:cnt+4]\n",
    "    cnt += 30\n",
    "\n",
    "#Account for the inversion of the SAVIT simulator and, since values recorded are in meters, multiply by 100.\n",
    "#Account for the y-axis offset from the SAVIT simulator (1.3).\n",
    "hitXdf = pd.DataFrame(hitX) * -100\n",
    "hitYdf = pd.DataFrame(hitY) + 1.3\n",
    "Hit_xy = pd.concat([hitXdf, hitYdf], axis=1, sort=False)\n",
    "with open('hitxy_test', 'w') as txt:\n",
    "    txt.write(str(Hit_xy))\n",
    "\n",
    "# p1_dcm = get_dcm(0, 5)\n",
    "# p2_dcm = get_dcm(25, 30)\n",
    "# p3_dcm = get_dcm(50, 55)\n",
    "# p4_dcm = get_dcm(75, 80)\n",
    "# p5_dcm = get_dcm(100, 105)\n",
    "# p6_dcm = get_dcm(125, 130)\n",
    "\n",
    "\n",
    "p4_dcm = get_dcm(0, 5)\n",
    "#p9_dcm = get_dcm(25, 30)\n",
    "p12_dcm = get_dcm(50,55)\n",
    "p1_dcm = get_dcm(75, 80)\n",
    "p3_dcm = get_dcm(100, 105)\n",
    "p14_dcm = get_dcm(125, 130)\n",
    "p13_dcm = get_dcm(150, 155)\n",
    "\n",
    "p7_dcm = get_dcm(175, 180)\n",
    "p10_dcm = get_dcm(200, 205)\n",
    "p2_dcm = get_dcm(225, 230)\n",
    "p11_dcm = get_dcm(250, 255)\n",
    "#p6_dcm = get_dcm(275, 280)\n",
    "p8_dcm = get_dcm(300, 305)\n",
    "#p5_dcm = get_dcm(325, 330)\n",
    "\n",
    "\n",
    "\n",
    "#with open('Participant8_dcm', 'w') as txt:\n",
    "   # txt.write(str(p8_dcm))\n"
   ]
  },
  {
   "cell_type": "code",
   "execution_count": 2,
   "metadata": {},
   "outputs": [],
   "source": [
    "def get_hypo_in_range(a, b):\n",
    "    xm = hitXdf.iloc[pd.np.r_[a:b]].mean()\n",
    "    ym = hitYdf.iloc[pd.np.r_[a:b]].mean()\n",
    "    return round(math.hypot(xm, ym), 3)\n",
    "\n",
    "def get_dcm(a, b):\n",
    "    dcm=[]\n",
    "    for i in range(0, 5):\n",
    "        dcm.append(get_hypo_in_range(a, b))\n",
    "        a += 5\n",
    "        b += 5\n",
    "    return dcm"
   ]
  }
 ],
 "metadata": {
  "kernelspec": {
   "display_name": "Python 3",
   "language": "python",
   "name": "python3"
  },
  "language_info": {
   "codemirror_mode": {
    "name": "ipython",
    "version": 3
   },
   "file_extension": ".py",
   "mimetype": "text/x-python",
   "name": "python",
   "nbconvert_exporter": "python",
   "pygments_lexer": "ipython3",
   "version": "3.7.3"
  }
 },
 "nbformat": 4,
 "nbformat_minor": 2
}
