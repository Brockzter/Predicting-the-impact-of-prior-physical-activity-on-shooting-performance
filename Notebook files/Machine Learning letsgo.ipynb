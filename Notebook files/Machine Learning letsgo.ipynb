{
 "cells": [
  {
   "cell_type": "code",
   "execution_count": 1,
   "metadata": {},
   "outputs": [],
   "source": [
    "import pandas as pd\n",
    "import math\n",
    "import matplotlib.pyplot as plt\n",
    "import numpy as np\n",
    "from sklearn import linear_model\n",
    "from sklearn.metrics import mean_squared_error, r2_score\n",
    "from mpl_toolkits.mplot3d import Axes3D\n",
    "from statistics import mean\n",
    "\n",
    "from sklearn.linear_model import ElasticNet\n",
    "from sklearn.ensemble import RandomForestRegressor\n",
    "from sklearn.datasets import make_regression"
   ]
  },
  {
   "cell_type": "code",
   "execution_count": null,
   "metadata": {},
   "outputs": [],
   "source": [
    "#Participant 6 and 9 are unreadable and not included here.\n",
    "PARTICIPANTS_DCM = ['participant_1.txt', 'participant_2.txt', 'participant_3.txt', 'participant_4.txt', 'participant_5.txt',\n",
    "                    'participant_7.txt', 'participant_8.txt', 'participant_10.txt', 'participant_11.txt', 'participant_12.txt',\n",
    "                    'participant_13.txt', 'participant_14.txt']\n",
    "\n",
    "PARTICIPANTS_IMP = ['participant_1.txt', 'participant_2.txt', 'participant_3.txt', 'participant_4.txt', 'participant_5.txt',\n",
    "                    'participant_7.txt', 'participant_8.txt', 'participant_10.txt', 'participant_11.txt', 'participant_12.txt',\n",
    "                    'participant_13.txt', 'participant_14.txt']\n",
    "\n",
    "PARTICIPANTS_HR = ['participant_1.txt', 'participant_2.txt', 'participant_3.txt', 'participant_4.txt', 'participant_5.txt',\n",
    "                   'participant_7.txt', 'participant_8.txt', 'participant_10.txt', 'participant_11.txt', 'participant_12.txt',\n",
    "                   'participant_13.txt', 'participant_14.txt']"
   ]
  }
 ],
 "metadata": {
  "kernelspec": {
   "display_name": "Python 3",
   "language": "python",
   "name": "python3"
  },
  "language_info": {
   "codemirror_mode": {
    "name": "ipython",
    "version": 3
   },
   "file_extension": ".py",
   "mimetype": "text/x-python",
   "name": "python",
   "nbconvert_exporter": "python",
   "pygments_lexer": "ipython3",
   "version": "3.7.3"
  }
 },
 "nbformat": 4,
 "nbformat_minor": 2
}
